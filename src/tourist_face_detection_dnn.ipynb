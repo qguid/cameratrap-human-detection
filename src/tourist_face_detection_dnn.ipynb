{
 "cells": [
  {
   "cell_type": "markdown",
   "metadata": {},
   "source": [
    "# Face detection \n",
    "\n",
    "\n",
    "### using the DNN Face Detector in OpenCV\n",
    "    \n",
    "As a test, use the subset of the images defined by yolo and apply face detection on these\n",
    "\n",
    "https://www.pyimagesearch.com/2018/02/26/face-detection-with-opencv-and-deep-learning/#post_downloads"
   ]
  },
  {
   "cell_type": "code",
   "execution_count": 63,
   "metadata": {},
   "outputs": [],
   "source": [
    "import os\n",
    "import cv2\n",
    "import numpy as np\n",
    "import matplotlib.pyplot as plt\n",
    "from matplotlib.image import imsave"
   ]
  },
  {
   "cell_type": "code",
   "execution_count": 2,
   "metadata": {},
   "outputs": [],
   "source": [
    "model_prototxt = \"./model/deploy.prototxt\"\n",
    "model_caffee = \"./model/res10_300x300_ssd_iter_140000_fp16.caffemodel\""
   ]
  },
  {
   "cell_type": "code",
   "execution_count": 3,
   "metadata": {},
   "outputs": [],
   "source": [
    "net = cv2.dnn.readNetFromCaffe(model_prototxt, model_caffee) "
   ]
  },
  {
   "cell_type": "code",
   "execution_count": 75,
   "metadata": {},
   "outputs": [],
   "source": [
    "photo_folder = \"../data/processed/extractions/\"\n",
    "output_dir = \"../data/processed/face_detection\"\n",
    "\n",
    "minimal_confidence  = 0.4"
   ]
  },
  {
   "cell_type": "code",
   "execution_count": 76,
   "metadata": {},
   "outputs": [],
   "source": [
    "filename = os.listdir(photo_folder)[5]"
   ]
  },
  {
   "cell_type": "code",
   "execution_count": 77,
   "metadata": {},
   "outputs": [],
   "source": [
    "\n",
    "for filename in os.listdir(photo_folder):\n",
    "    \n",
    "    # load the input image and construct an input blob for the image\n",
    "    # by resizing to a fixed 300x300 pixels and then normalizing it\n",
    "    image = cv2.imread(os.path.join(photo_folder, filename))\n",
    "    image = cv2.cvtColor(image, cv2.COLOR_BGR2RGB)\n",
    "    (h, w) = image.shape[:2]\n",
    "    blob = cv2.dnn.blobFromImage(cv2.resize(image, (300, 300)), 1.0, \n",
    "                                 (300, 300), (104.0, 177.0, 123.0))\n",
    "\n",
    "    net.setInput(blob)\n",
    "    detections = net.forward()\n",
    "\n",
    "    for i in range(0, detections.shape[2]):\n",
    "        # extract the confidence (i.e., probability) associated with the\n",
    "        # prediction\n",
    "        confidence = detections[0, 0, i, 2]\n",
    "\n",
    "        # filter out weak detections by ensuring the `confidence` is\n",
    "        # greater than the minimum confidence\n",
    "        if confidence > minimal_confidence:\n",
    "            # compute the (x, y)-coordinates of the bounding box for the object\n",
    "            box = detections[0, 0, i, 3:7] * np.array([w, h, w, h])\n",
    "            (startX, startY, endX, endY) = box.astype(\"int\")\n",
    "\n",
    "            # draw the bounding box of the face along with the associated\n",
    "            # probability\n",
    "            text = \"{:.2f}%\".format(confidence * 100)\n",
    "            y = startY - 10 if startY - 10 > 10 else startY + 10\n",
    "            cv2.rectangle(image, (startX, startY), (endX, endY), \n",
    "                          (0, 0, 255), 2)\n",
    "            cv2.putText(image, text, (startX, y),\n",
    "            cv2.FONT_HERSHEY_SIMPLEX, 0.45, (0, 0, 255), 2)\n",
    "    # save the output file\n",
    "    imsave(os.path.join(output_dir, os.path.basename(filename)), image)      "
   ]
  },
  {
   "cell_type": "markdown",
   "metadata": {},
   "source": [
    "### Faced implementation\n",
    "\n",
    "Try out with faced package https://github.com/iitzco/faced"
   ]
  },
  {
   "cell_type": "code",
   "execution_count": 78,
   "metadata": {},
   "outputs": [],
   "source": [
    "import cv2\n",
    "\n",
    "from faced import FaceDetector\n",
    "from faced.utils import annotate_image\n",
    "\n",
    "face_detector = FaceDetector()\n",
    "\n",
    "thresh = 0.4\n",
    "\n",
    "for filename in os.listdir(photo_folder):\n",
    "    image = cv2.imread(os.path.join(photo_folder, filename))\n",
    "    rgb_img = cv2.cvtColor(image.copy(), cv2.COLOR_BGR2RGB)\n",
    "\n",
    "    # Receives RGB numpy image (HxWxC) and\n",
    "    # returns (x_center, y_center, width, height, prob) tuples. \n",
    "    bboxes = face_detector.predict(rgb_img, thresh)\n",
    "\n",
    "    # Use this utils function to annotate the image.\n",
    "    ann_img = annotate_image(rgb_img, bboxes)\n",
    "    \n",
    "    imsave(os.path.join(output_dir, os.path.basename(filename)), ann_img)      "
   ]
  },
  {
   "cell_type": "markdown",
   "metadata": {},
   "source": [
    "### face_recognition package\n",
    "\n",
    "try out with https://github.com/ageitgey/face_recognition"
   ]
  },
  {
   "cell_type": "code",
   "execution_count": 80,
   "metadata": {},
   "outputs": [],
   "source": [
    "import face_recognition"
   ]
  },
  {
   "cell_type": "code",
   "execution_count": 93,
   "metadata": {},
   "outputs": [
    {
     "name": "stdout",
     "output_type": "stream",
     "text": [
      "I found 0 face(s) in this photograph.\n",
      "I found 1 face(s) in this photograph.\n",
      "I found 1 face(s) in this photograph.\n",
      "I found 0 face(s) in this photograph.\n",
      "I found 0 face(s) in this photograph.\n",
      "I found 1 face(s) in this photograph.\n",
      "I found 1 face(s) in this photograph.\n",
      "I found 0 face(s) in this photograph.\n",
      "I found 1 face(s) in this photograph.\n",
      "I found 1 face(s) in this photograph.\n",
      "I found 1 face(s) in this photograph.\n",
      "I found 0 face(s) in this photograph.\n",
      "I found 1 face(s) in this photograph.\n",
      "I found 0 face(s) in this photograph.\n",
      "I found 0 face(s) in this photograph.\n",
      "I found 1 face(s) in this photograph.\n",
      "I found 0 face(s) in this photograph.\n",
      "I found 0 face(s) in this photograph.\n",
      "I found 1 face(s) in this photograph.\n",
      "I found 0 face(s) in this photograph.\n",
      "I found 0 face(s) in this photograph.\n",
      "I found 0 face(s) in this photograph.\n",
      "I found 0 face(s) in this photograph.\n",
      "I found 0 face(s) in this photograph.\n",
      "I found 1 face(s) in this photograph.\n",
      "I found 1 face(s) in this photograph.\n",
      "I found 0 face(s) in this photograph.\n",
      "I found 0 face(s) in this photograph.\n",
      "I found 0 face(s) in this photograph.\n",
      "I found 0 face(s) in this photograph.\n",
      "I found 0 face(s) in this photograph.\n",
      "I found 0 face(s) in this photograph.\n",
      "I found 0 face(s) in this photograph.\n",
      "I found 1 face(s) in this photograph.\n",
      "I found 0 face(s) in this photograph.\n",
      "I found 0 face(s) in this photograph.\n",
      "I found 0 face(s) in this photograph.\n",
      "I found 0 face(s) in this photograph.\n",
      "I found 0 face(s) in this photograph.\n",
      "I found 0 face(s) in this photograph.\n",
      "I found 0 face(s) in this photograph.\n",
      "I found 1 face(s) in this photograph.\n",
      "I found 0 face(s) in this photograph.\n",
      "I found 0 face(s) in this photograph.\n"
     ]
    }
   ],
   "source": [
    "for filename in os.listdir(photo_folder):\n",
    "    image = face_recognition.load_image_file(os.path.join(photo_folder, filename))\n",
    "    face_locations = face_recognition.face_locations(image, model=\"cnn\")\n",
    "\n",
    "    print(\"I found {} face(s) in this photograph.\".format(len(face_locations)))\n",
    "\n",
    "    for top, right, bottom, left in face_locations:\n",
    "\n",
    "        # Extract the region of the image that contains the face\n",
    "        face_image = image[top:bottom, left:right]\n",
    "\n",
    "        # Blur the face image\n",
    "        face_image = cv2.GaussianBlur(face_image, (15, 15), 30)\n",
    "\n",
    "        # Put the blurred face region back into the frame image\n",
    "        image[top:bottom, left:right] = face_image\n",
    "    \n",
    "    imsave(os.path.join(output_dir, os.path.basename(filename)), image)      "
   ]
  },
  {
   "cell_type": "code",
   "execution_count": null,
   "metadata": {},
   "outputs": [],
   "source": []
  }
 ],
 "metadata": {
  "kernelspec": {
   "display_name": "Python [conda env:inbobase]",
   "language": "python",
   "name": "conda-env-inbobase-py"
  },
  "language_info": {
   "codemirror_mode": {
    "name": "ipython",
    "version": 3
   },
   "file_extension": ".py",
   "mimetype": "text/x-python",
   "name": "python",
   "nbconvert_exporter": "python",
   "pygments_lexer": "ipython3",
   "version": "3.5.5"
  }
 },
 "nbformat": 4,
 "nbformat_minor": 2
}
